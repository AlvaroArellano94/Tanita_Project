{
 "cells": [
  {
   "cell_type": "code",
   "execution_count": 1,
   "metadata": {},
   "outputs": [
    {
     "data": {
      "text/plain": [
       "Measurement_Date           25/06/2022\n",
       "Measurement_Time             12:52:53\n",
       "Body_Mass                        78.6\n",
       "BMI                              24.3\n",
       "Global_Fat_Perc                  14.0\n",
       "Arm_Fat_Right_Perc               10.4\n",
       "Arm_Fat_Left_Perc                10.8\n",
       "Leg_Fat_Right_Perc               13.3\n",
       "Leg_Fat_Left_Perc                12.4\n",
       "Torso_Fat_Perc                   15.5\n",
       "Global_Muscle_Perc               64.2\n",
       "Arm_Muscle_Right_Perc             3.9\n",
       "Arm_Muscle_Left_Perc              4.0\n",
       "Leg_Muscle_Right_Perc            10.9\n",
       "Leg_Muscle_Left_Perc             11.0\n",
       "Torso_Muscle_Perc                34.4\n",
       "Estimated_Bone_Mass               3.4\n",
       "Visceral_Fat_Rating                 3\n",
       "Daily_Calory_Intake              4140\n",
       "Estimated_Metabolic_Age            16\n",
       "Global_Body_Water_Perc           62.0\n",
       "User_id                             1\n",
       "Name: 14, dtype: object"
      ]
     },
     "execution_count": 1,
     "metadata": {},
     "output_type": "execute_result"
    }
   ],
   "source": [
    "from select_body_comp import get_rows_from_file\n",
    "\n",
    "test_file_directory = \"TANITA\\GRAPHV1\\DATA\"\n",
    "file_directory = \"TANITA\\GRAPHV1\\DATA\\DATA2.CSV\"\n",
    "\n",
    "df_body_comp = get_rows_from_file(1, file_directory)\n",
    "df_body_comp.iloc[14]"
   ]
  },
  {
   "cell_type": "code",
   "execution_count": 13,
   "metadata": {},
   "outputs": [
    {
     "name": "stdout",
     "output_type": "stream",
     "text": [
      "   Measurement_Date_Time Measurement_Date\n",
      "0    23/04/2022 12:06:39       23/04/2022\n",
      "1    25/04/2022 11:00:29       25/04/2022\n",
      "2    02/05/2022 12:36:41       02/05/2022\n",
      "3    04/05/2022 11:40:17       04/05/2022\n",
      "4    04/05/2022 20:05:21       04/05/2022\n",
      "5    22/05/2022 10:05:28       22/05/2022\n",
      "6    22/05/2022 10:07:15       22/05/2022\n",
      "7    23/05/2022 16:50:17       23/05/2022\n",
      "8    27/05/2022 10:29:22       27/05/2022\n",
      "9    30/05/2022 16:33:34       30/05/2022\n",
      "10   09/06/2022 13:26:42       09/06/2022\n",
      "11   09/06/2022 13:28:43       09/06/2022\n",
      "12   20/06/2022 09:59:15       20/06/2022\n",
      "13   24/06/2022 14:01:46       24/06/2022\n",
      "14   25/06/2022 12:52:53       25/06/2022\n",
      "15   25/06/2022 12:53:45       25/06/2022\n",
      "16   15/07/2022 17:15:38       15/07/2022\n",
      "Measurement_Date            object\n",
      "Measurement_Time            object\n",
      "Body_Mass                  float64\n",
      "BMI                        float64\n",
      "Global_Fat_Perc            float64\n",
      "Arm_Fat_Right_Perc         float64\n",
      "Arm_Fat_Left_Perc          float64\n",
      "Leg_Fat_Right_Perc         float64\n",
      "Leg_Fat_Left_Perc          float64\n",
      "Torso_Fat_Perc             float64\n",
      "Global_Muscle_Perc         float64\n",
      "Arm_Muscle_Right_Perc      float64\n",
      "Arm_Muscle_Left_Perc       float64\n",
      "Leg_Muscle_Right_Perc      float64\n",
      "Leg_Muscle_Left_Perc       float64\n",
      "Torso_Muscle_Perc          float64\n",
      "Estimated_Bone_Mass        float64\n",
      "Visceral_Fat_Rating          int64\n",
      "Daily_Calory_Intake          int64\n",
      "Estimated_Metabolic_Age      int64\n",
      "Global_Body_Water_Perc     float64\n",
      "User_id                      int64\n",
      "Measurement_Date_Time       object\n",
      "dtype: object\n"
     ]
    }
   ],
   "source": [
    "import pandas as pd\n",
    "df_body_comp[\"Measurement_Date_Time\"] = df_body_comp[\"Measurement_Date\"] +' '+ df_body_comp[\"Measurement_Time\"]\n",
    "\n",
    "#df_body_comp[\"Measurement_Date_Time\"] = pd.to_datetime(str(df_body_comp[\"Measurement_Date\"]) + str(df_body_comp[\"Measurement_Time\"]))\n",
    "\n",
    "print(df_body_comp[[\"Measurement_Date_Time\",\"Measurement_Date\"]])\n",
    "#print(df_body_comp.iloc[13][\"Measurement_Date_Time\"])\n",
    "print(df_body_comp.dtypes)"
   ]
  },
  {
   "cell_type": "code",
   "execution_count": 20,
   "metadata": {},
   "outputs": [],
   "source": [
    "df_body_comp[\"Measurement_Date_Time\"] = pd.to_datetime(df_body_comp[\"Measurement_Date_Time\"]) "
   ]
  },
  {
   "cell_type": "code",
   "execution_count": 15,
   "metadata": {},
   "outputs": [
    {
     "data": {
      "text/plain": [
       "Measurement_Date                   object\n",
       "Measurement_Time                   object\n",
       "Body_Mass                         float64\n",
       "BMI                               float64\n",
       "Global_Fat_Perc                   float64\n",
       "Arm_Fat_Right_Perc                float64\n",
       "Arm_Fat_Left_Perc                 float64\n",
       "Leg_Fat_Right_Perc                float64\n",
       "Leg_Fat_Left_Perc                 float64\n",
       "Torso_Fat_Perc                    float64\n",
       "Global_Muscle_Perc                float64\n",
       "Arm_Muscle_Right_Perc             float64\n",
       "Arm_Muscle_Left_Perc              float64\n",
       "Leg_Muscle_Right_Perc             float64\n",
       "Leg_Muscle_Left_Perc              float64\n",
       "Torso_Muscle_Perc                 float64\n",
       "Estimated_Bone_Mass               float64\n",
       "Visceral_Fat_Rating                 int64\n",
       "Daily_Calory_Intake                 int64\n",
       "Estimated_Metabolic_Age             int64\n",
       "Global_Body_Water_Perc            float64\n",
       "User_id                             int64\n",
       "Measurement_Date_Time      datetime64[ns]\n",
       "dtype: object"
      ]
     },
     "execution_count": 15,
     "metadata": {},
     "output_type": "execute_result"
    }
   ],
   "source": [
    "df_body_comp.dtypes"
   ]
  },
  {
   "cell_type": "code",
   "execution_count": 16,
   "metadata": {},
   "outputs": [
    {
     "data": {
      "text/plain": [
       "0    2022-04-23 12:06:39\n",
       "1    2022-04-25 11:00:29\n",
       "2    2022-02-05 12:36:41\n",
       "3    2022-04-05 11:40:17\n",
       "4    2022-04-05 20:05:21\n",
       "5    2022-05-22 10:05:28\n",
       "6    2022-05-22 10:07:15\n",
       "7    2022-05-23 16:50:17\n",
       "8    2022-05-27 10:29:22\n",
       "9    2022-05-30 16:33:34\n",
       "10   2022-09-06 13:26:42\n",
       "11   2022-09-06 13:28:43\n",
       "12   2022-06-20 09:59:15\n",
       "13   2022-06-24 14:01:46\n",
       "14   2022-06-25 12:52:53\n",
       "15   2022-06-25 12:53:45\n",
       "16   2022-07-15 17:15:38\n",
       "Name: Measurement_Date_Time, dtype: datetime64[ns]"
      ]
     },
     "execution_count": 16,
     "metadata": {},
     "output_type": "execute_result"
    }
   ],
   "source": [
    "df_body_comp[\"Measurement_Date_Time\"]"
   ]
  },
  {
   "cell_type": "code",
   "execution_count": null,
   "metadata": {},
   "outputs": [],
   "source": []
  }
 ],
 "metadata": {
  "kernelspec": {
   "display_name": "Python 3.10.5 64-bit",
   "language": "python",
   "name": "python3"
  },
  "language_info": {
   "codemirror_mode": {
    "name": "ipython",
    "version": 3
   },
   "file_extension": ".py",
   "mimetype": "text/x-python",
   "name": "python",
   "nbconvert_exporter": "python",
   "pygments_lexer": "ipython3",
   "version": "3.10.5"
  },
  "orig_nbformat": 4,
  "vscode": {
   "interpreter": {
    "hash": "31e71685b4fb890eaef7717b47cee56800634aecd720d747388692bfd2f8230f"
   }
  }
 },
 "nbformat": 4,
 "nbformat_minor": 2
}
